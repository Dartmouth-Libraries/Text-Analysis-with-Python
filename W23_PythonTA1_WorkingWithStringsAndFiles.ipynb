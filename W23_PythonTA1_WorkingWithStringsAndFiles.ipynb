{
 "cells": [
  {
   "cell_type": "markdown",
   "id": "d171187f",
   "metadata": {},
   "source": [
    "# Text Analysis in Python 1: Working with Strings & Files\n",
    "\n",
    "<h1 style=\"text-align:center;font-size:300%;\">The State of the Union is ____?</h1> \n",
    "  <img src=\"https://miro.medium.com/max/720/1*pp7HX01jBv2wbVRW9Ml_mA.png\" style=\"width:%80;\">\n",
    "\n",
    "\n",
    "This tutorial will offer a basic introduction to performing text analysis in Python. It is designed for researchers (of all levels) interested in an introduction to text analysis with Python (no prior knowledge necessary). These **Jupyter Notebooks** are designed to work for both novice and intermediate users. First-time and beginner users of Python and Jupyter are recommended to complete the sections marked with **Python Basics** after the completion of the lesson. The lesson itself will focus on providing the code and basic skills you need to get started with text analysis. \n",
    "\n",
    "## Structure of Notebooks\n",
    "\n",
    "These Jupyter Notebooks are designed to integrate instructions and explanations (in the white \"markdown\" cells below) with hands-on practice with the code (in the gray \"code\" cells below).\n",
    "\n",
    "<h3 style=\"color:green\">Code Together:</h3><p style=\"color:green\">In these cell blocks, we will code together. You can find the completed version in our shared folder (ending with \"_completed.ipynb\").</p>\n",
    "\n",
    "<h3 style=\"color:blue;\">Exercises:</h3><p style=\"color:blue\">are in blue text. These are a chance to practice what you have learned.</p>\n",
    "\n",
    "<h3 style=\"color:purple\">Python Basics - Additional Practice</h3><p style=\"color:purple\">are in purple text. Work on these after the lesson if you would like more practice.</p>"
   ]
  },
  {
   "cell_type": "markdown",
   "id": "acf6e6b7",
   "metadata": {},
   "source": [
    "## Can't you just read the books the old-fashioned way? \n",
    "\n",
    "### Why code?\n",
    "\n",
    "<!--+ **accessibility**: learning to work with huge amount of data-->\n",
    "+ **scale-ability**: scale up from one paragraph to a million books\n",
    "+ **automate** the tedious; spend more time on the fun stuff\n",
    "+ **reproducibility**: do it once, do it a thousand times\n",
    "    + **Reproducible Research**: Also increasing calls, especially in Sciences, for data to be published with research so that other scholars can reproduce and test their results\n",
    "\t<!--+ Reproducing exact results in the humanities is probably both impossible and antithetical to humanities research. Nonetheless, there is a movement for humanities people to publish and preserve their \"datasets\". As an Indigenous Studies scholar, I think this is especially important as the most accessible texts and sources are often the most problematic and many scholars spend years uncovering alternative accounts or analyzing well-known accounts in more critical ways. Why not allow young scholars to build off your work and then take it further?-->\n",
    "+ **flexibility**: only limit on your choices is your imagination\n",
    "    + As opposed to out-of-the-box software that limits you to the imagination and constraints of the software developers\n",
    "+ **affordability**: free to run,\n",
    "+ **transferability**: convert files from one system to another\n",
    "    + Many forms of proprietary software push the user to save their data in data formats that only that software can read\n",
    "+ **longevity**: work with plain text files and .csvs will enhance the likelihood your data can still be read and processed 20, 40 years from now\n",
    "\n",
    "\n"
   ]
  },
  {
   "cell_type": "markdown",
   "id": "b43f09c3",
   "metadata": {},
   "source": [
    "### Why text analysis?"
   ]
  },
  {
   "cell_type": "markdown",
   "id": "5965c75c",
   "metadata": {},
   "source": [
    "## Why do Text Analysis with Python?"
   ]
  },
  {
   "cell_type": "markdown",
   "id": "50a7d27a",
   "metadata": {},
   "source": []
  },
  {
   "cell_type": "markdown",
   "id": "2ea36997",
   "metadata": {},
   "source": [
    "## This Tutorial\n",
    "\n",
    "In this tutorial and notebook, you will practice working with a dataset or corpus of a well-known series of texts: the yearly State of the Union addresses given by Presidents of the United States since 1790."
   ]
  },
  {
   "cell_type": "markdown",
   "id": "b7df5d9b",
   "metadata": {},
   "source": [
    "\n",
    "## Part I. Setup\n",
    "\n",
    "### Downloading and Saving Dataset(s)\n",
    "\n",
    "1. Find the Class folder of code and data at ????.\n",
    "2. Save this folder in an easy to find place on your own computer (suggestion: save it \n",
    "\n",
    "### Getting Started with Course Jupyter Notebooks\n",
    "\n",
    "There are two main types of cells in Jupyter. This is a **markdown** cell."
   ]
  },
  {
   "cell_type": "code",
   "execution_count": null,
   "id": "1bb557a5",
   "metadata": {},
   "outputs": [],
   "source": [
    "# This is a code cell.\n",
    "# To comment out a line, add a # at the beginning\n",
    "\n",
    "print(\"Hello world my name is XXX!\")  #replace \"XXX\" with your name\n",
    "print(\"This is the line seemingly every intro programming lesson begins with.\")\n",
    "#To run the code in this cell, hit CTRL + ENTER or click on the Run/Play button at the top of the screen."
   ]
  },
  {
   "cell_type": "markdown",
   "id": "ba7163fb",
   "metadata": {},
   "source": [
    "To create new cells below this one, type ESC + B. To add new cells above this one, type ESC + A. To change a coding cell (for the machine to read) to a text / markdown cell (with notes or instructions for humans), type ESC + M. To do the opposite, type ESC + Y. You may also add, delete, or change cells using the menu options above. For more keyboard shortcuts see click on the Help tab above --> Keyboard Shortcuts (or just type ESC + H).\n",
    "\n",
    "<h3 style=\"color:blue;\">Exercise: Create New Coding Cells / Practice with Basic Python</h3>\n",
    "\n",
    "<p style=\"color:blue;\">Please create some new coding cells below.</p>"
   ]
  },
  {
   "cell_type": "code",
   "execution_count": null,
   "id": "e8101b38",
   "metadata": {},
   "outputs": [],
   "source": [
    "#we are going to begin with some basic Python, let's first assign a number to a variable\n"
   ]
  },
  {
   "cell_type": "code",
   "execution_count": null,
   "id": "e4fe5698",
   "metadata": {},
   "outputs": [],
   "source": [
    "# then apply some additional math to that variable\n"
   ]
  },
  {
   "cell_type": "code",
   "execution_count": null,
   "id": "ac86c9d3",
   "metadata": {},
   "outputs": [],
   "source": []
  },
  {
   "cell_type": "code",
   "execution_count": null,
   "id": "4a10c396",
   "metadata": {},
   "outputs": [],
   "source": [
    "#create some simple strings (in this case sentences) and assign them to variables\n"
   ]
  },
  {
   "cell_type": "code",
   "execution_count": null,
   "id": "c6703425",
   "metadata": {},
   "outputs": [],
   "source": [
    "#concatenate the strings (sentences)\n"
   ]
  },
  {
   "cell_type": "code",
   "execution_count": null,
   "id": "ce9d3449",
   "metadata": {},
   "outputs": [],
   "source": [
    "#create a list of people names\n"
   ]
  },
  {
   "cell_type": "code",
   "execution_count": null,
   "id": "50ec5370",
   "metadata": {},
   "outputs": [],
   "source": [
    "#create a list of numbers\n"
   ]
  },
  {
   "cell_type": "code",
   "execution_count": null,
   "id": "54682c6b",
   "metadata": {},
   "outputs": [],
   "source": [
    "# add an item to the list\n"
   ]
  },
  {
   "cell_type": "code",
   "execution_count": null,
   "id": "b7ef6594",
   "metadata": {},
   "outputs": [],
   "source": [
    "#sort the lists you have created\n",
    "\n"
   ]
  },
  {
   "cell_type": "code",
   "execution_count": null,
   "id": "dc324667",
   "metadata": {},
   "outputs": [],
   "source": [
    "#combine and print the lists\n"
   ]
  },
  {
   "cell_type": "markdown",
   "id": "4edd98c5",
   "metadata": {},
   "source": [
    "## Part II: Importing Python Packages or Libraries\n",
    "\n",
    "Before beginning, we need to import some packages. Often, we need to install and import customized Python packages (sometimes called \"modules\") in addition to the core functions (like **print()**, **len()**, **sum()**, and others).\n",
    "\n",
    "[ADD COMMENT ABOUT INSTALLING PACKAGES, DEPENDING ON THE THE SETUP WE HAVE FOR STUDENTS TO USE]\n"
   ]
  },
  {
   "cell_type": "code",
   "execution_count": null,
   "id": "aa793faf",
   "metadata": {},
   "outputs": [],
   "source": [
    "import os, pathlib, glob #the os package allows us to navigate through the files on our own computers\n",
    "from pathlib import Path #the pathlib package helps us work with file paths\n",
    "#for more on using pathlib see: https://builtin.com/software-engineering-perspectives/python-pathlib\n",
    "import nltk,re #we can import multiple packages on one line using commas to separate new package names\n",
    "#import matplotlib as plt   #matplotlib and seaborn are used here to create graphs, charts, and other visualizations\n",
    "import matplotlib.pyplot as plt #needed for xticks\n",
    "import seaborn as sns\n",
    "\n",
    "\n",
    "plt.rcParams['figure.figsize'] = [16, 10]  #changes default figure size to make larger plots\n",
    "\n",
    "%config InteractiveShellApp.matplotlib = 'inline'\n",
    "%config InlineBackend.figure_formats = ['svg']\n",
    "\n",
    "#Press CTRL+Enter to run this codeblock! "
   ]
  },
  {
   "cell_type": "markdown",
   "id": "b9392def",
   "metadata": {},
   "source": [
    "<h3 style=\"color:green;\"> Code Together:</h3>\n",
    "\n",
    "<p style=\"color:green\">We will also need to use the \"collections\" package as well. Let's import that in the code cell below:</p>\n",
    "\n"
   ]
  },
  {
   "cell_type": "code",
   "execution_count": null,
   "id": "eda6d9a7",
   "metadata": {},
   "outputs": [],
   "source": [
    "#note: when importing packages, Python will only print something out if there is an error. \n",
    "\n",
    "\n",
    "#Press CTRL+Enter to run this codeblock!"
   ]
  },
  {
   "cell_type": "markdown",
   "id": "59fc78e5",
   "metadata": {},
   "source": [
    "# Part III: Navigating through your computer's files and folders\n",
    "\n",
    "1. To work with the State of the Union addresses you downloaded (hereafter: SOTU), we will need to navigate to the folder you placed them in. First, check the \"current working directory\" that Python is working with:\n",
    "\n"
   ]
  },
  {
   "cell_type": "code",
   "execution_count": null,
   "id": "362ef692",
   "metadata": {},
   "outputs": [],
   "source": [
    "#note: to navigate through your files we will be using the Python library pathlib, which has become the preferred package \n",
    "#   for this task. However, I will also include the code for using the more traditional method (with the package os), \n",
    "#   but commented out.\n",
    "print(Path.cwd())\n",
    "#print(os.getcwd()) \n",
    "\n",
    "#Press CTRL+Enter to run this codeblock! This is the last time this reminder will be provided."
   ]
  },
  {
   "cell_type": "markdown",
   "id": "65f9ad3a",
   "metadata": {},
   "source": [
    "2. Your current working directory, printed out in the previous step, should be the location where you saved this notebook. Before moving on, double-check to make sure that you also saved the \"sotu\" folder of texts in that same directory."
   ]
  },
  {
   "cell_type": "code",
   "execution_count": null,
   "id": "8554af50",
   "metadata": {},
   "outputs": [],
   "source": [
    "list(Path.iterdir(Path.cwd()))\n",
    "#os.listdir()\n",
    "\n",
    "#Do you see the \"sotu folder in the list below?"
   ]
  },
  {
   "cell_type": "markdown",
   "id": "120a2bef",
   "metadata": {},
   "source": [
    "3. Next, we will look inside the \"sotu\" folder containing our corpus of State of the Union speeches (henceforth: SOTU). We can learn something about this dataset simply by examining the titles of the individual files."
   ]
  },
  {
   "cell_type": "code",
   "execution_count": null,
   "id": "996fb8f9",
   "metadata": {},
   "outputs": [],
   "source": [
    "sotudir=Path(\"sotu\")\n",
    "#print(list(Path.iterdir(sotudir))) #to get fullpath\n",
    "print(set([item.suffix for item in list(Path.iterdir(sotudir))]))  #get unique suffixes or file extensions in sotudir \n",
    "[item.name for item in list(Path.iterdir(sotudir))] #to get filename only"
   ]
  },
  {
   "cell_type": "markdown",
   "id": "3e842155",
   "metadata": {},
   "source": [
    "## Part IV: Reading Files and Examining Their Contents"
   ]
  },
  {
   "cell_type": "markdown",
   "id": "6a69bed1",
   "metadata": {},
   "source": [
    "1. Open one SOTU text."
   ]
  },
  {
   "cell_type": "code",
   "execution_count": null,
   "id": "a953f39f",
   "metadata": {},
   "outputs": [],
   "source": [
    "with open(Path(\"sotu\",\"Bush_2002.txt\"),encoding='utf-8') as f:\n",
    "    bush02 = f.read()\n",
    "\n",
    "\n",
    "## ** also calling utf-8 encoding may not be necessary\n",
    "## but is good practice if you ever work with foreign languages (besides special characters can appear in English too, as in \n",
    "## loan words like naïve and résumé )\n",
    "\n",
    "\n",
    "##[DISCUSS WHY IT IS GOOD PRACTICE TO CLOSE FILES IMMEDIATELY AFTER YOU ARE DONE WITH THEM]"
   ]
  },
  {
   "cell_type": "code",
   "execution_count": null,
   "id": "7fd517a5",
   "metadata": {},
   "outputs": [],
   "source": [
    "## we can view the whole text simply by typing the file name\n",
    "bush02  #Jupyter, however, requires the print() command to print out any information not found in the last line of code in a codeblock"
   ]
  },
  {
   "cell_type": "markdown",
   "id": "f3869fab",
   "metadata": {},
   "source": [
    "2. What do the following blocks of code do? Run them and then share your answer."
   ]
  },
  {
   "cell_type": "code",
   "execution_count": null,
   "id": "eb572c36",
   "metadata": {},
   "outputs": [],
   "source": [
    "print(len(bush02))"
   ]
  },
  {
   "cell_type": "code",
   "execution_count": null,
   "id": "ce58617e",
   "metadata": {},
   "outputs": [],
   "source": [
    "bush02[0:20]"
   ]
  },
  {
   "cell_type": "code",
   "execution_count": null,
   "id": "995e3b60",
   "metadata": {},
   "outputs": [],
   "source": [
    "bush02[:20]  #this is exactly the same as bush02[0:20] "
   ]
  },
  {
   "cell_type": "code",
   "execution_count": null,
   "id": "af841841",
   "metadata": {},
   "outputs": [],
   "source": [
    "bush02[20:40]"
   ]
  },
  {
   "cell_type": "code",
   "execution_count": null,
   "id": "ff0e8283",
   "metadata": {},
   "outputs": [],
   "source": [
    "bush02[-60:]"
   ]
  },
  {
   "cell_type": "markdown",
   "id": "62ea6db3",
   "metadata": {},
   "source": [
    "<h3 style=\"color:blue;\">Exercises for Part IV</h3>\n",
    "    \n",
    "<p style=\"color:blue;\">1. Add a coding cell below and print out the first and last 200 characters in the Bush 02 speech.</p>"
   ]
  },
  {
   "cell_type": "markdown",
   "id": "c0b38daa",
   "metadata": {},
   "source": [
    "### IVb. Divide a text into tokens"
   ]
  },
  {
   "cell_type": "markdown",
   "id": "0976cefb",
   "metadata": {},
   "source": [
    "<p style = \"color:green\">The **split()** function allows us to divide a string by a delimiter. The default delimiter is a single space(\" \"). Let's split the following two items: a sentence and a series of phone numbers.</p>"
   ]
  },
  {
   "cell_type": "code",
   "execution_count": null,
   "id": "a861e24d",
   "metadata": {},
   "outputs": [],
   "source": [
    "# sent = \"This is a simple sentence; or maybe not, as it contains multiple clauses - and different forms of punctuation.\"\n"
   ]
  },
  {
   "cell_type": "code",
   "execution_count": null,
   "id": "6ab0d3e5",
   "metadata": {},
   "outputs": [],
   "source": [
    "phonenums = \"555-755-8340, 555-831-2911, 555-442-9182\"\n",
    "phonenums.split(\", \")"
   ]
  },
  {
   "cell_type": "markdown",
   "id": "e2727dd7",
   "metadata": {},
   "source": [
    "We can \"tokenize\" this SOTU text using the core Python function \"split()\". See the results below:\n"
   ]
  },
  {
   "cell_type": "code",
   "execution_count": null,
   "id": "7296c3cc",
   "metadata": {},
   "outputs": [],
   "source": [
    "rawtokens=bush02.split()\n",
    "print(rawtokens[:30])\n",
    "print(len(rawtokens))"
   ]
  },
  {
   "cell_type": "markdown",
   "id": "64f0739c",
   "metadata": {},
   "source": [
    "Notice this just splits words separated by spaces. It does not remove punctuation or split hyphenated words. See, for example:"
   ]
  },
  {
   "cell_type": "code",
   "execution_count": null,
   "id": "225b611c",
   "metadata": {},
   "outputs": [],
   "source": [
    "print(rawtokens[:10])\n",
    "# notice the punctuation after the 4th and 6th tokens should be placed in separate tokens, while the \n",
    "# punctuation after Mr. needs to stay as it identifies it as an abbreviation."
   ]
  },
  {
   "cell_type": "markdown",
   "id": "b62e8d16",
   "metadata": {},
   "source": [
    "Fortunately, the text analysis package, \"NLTK\", offers a more sophisticated way to tokenize the words of a text."
   ]
  },
  {
   "cell_type": "code",
   "execution_count": null,
   "id": "df84a4d0",
   "metadata": {},
   "outputs": [],
   "source": [
    "tokens = nltk.word_tokenize(bush02)\n",
    "print(tokens[0:30]) #notice the difference between these tokens and \"rawtokens\" above\n",
    "print(len(tokens))"
   ]
  },
  {
   "cell_type": "code",
   "execution_count": null,
   "id": "e62e6857",
   "metadata": {},
   "outputs": [],
   "source": [
    "#another way to tokenize\n",
    "from nltk import RegexpTokenizer\n",
    "tokenizer = RegexpTokenizer(r'\\w+')\n",
    "tokens2=tokenizer.tokenize(bush02)\n",
    "print(tokens2[:30])\n",
    "print(len(tokens2))"
   ]
  },
  {
   "cell_type": "markdown",
   "id": "33067517",
   "metadata": {},
   "source": [
    "<h3 style=\"color:purple\">Python Basics (Additional Practice): Data Types</h3>\n",
    "\n",
    "<ol style=\"color:purple\">\n",
    "    Select on the links below for more practice with...\n",
    "    <li>Lists and Tuples (and For Loops)</li>\n",
    "    <li>Dictionaries</li>\n",
    "    <li>Data Frames</li>\n",
    "</ol>"
   ]
  },
  {
   "cell_type": "code",
   "execution_count": null,
   "id": "1ce643d7",
   "metadata": {},
   "outputs": [],
   "source": []
  },
  {
   "cell_type": "markdown",
   "id": "105cfda2",
   "metadata": {},
   "source": [
    "<h3 style=\"color:purple\">Python Basics (Additional Practice): Working with File Names</h3>\n",
    "\n",
    "<p style=\"color:purple\">A good text corpus usually will include some metadata describing some basic information about the texts included. Sometimes this metadata will be stored in separate files and sometimes at the beginning of a text file. Our SOTU dataset, however, does not include any metadata - with one exception: information about the President and year in which he gave the addresss is store in the filename.</p>\n",
    "\n",
    "<p style=\"color:purple\">Here, we will use some basic Python commands to retrieve information from these file names.</p>\n",
    "\n",
    "<p style=\"color:purple\">1. Retrieve the name of the first file in the folder.</p>"
   ]
  },
  {
   "cell_type": "code",
   "execution_count": null,
   "id": "9805f613",
   "metadata": {},
   "outputs": [],
   "source": [
    "pathlist = sotudir.glob('*.txt')\n",
    "pathnames=[path.name for path in pathlist]\n",
    "print(pathnames[:10])\n",
    "firstfilename=pathnames[0]   #Note: in Python the first item of a list is given the index 0 not 1!\n",
    "print(firstfilename)"
   ]
  },
  {
   "cell_type": "markdown",
   "id": "fa7b0dd6",
   "metadata": {},
   "source": [
    "<p style=\"color:purple\">2. We can then divide the filename into its three parts: president's name, year of address, and file type/extension.</p>\n",
    "\n",
    "<p style=\"color:purple\">We can do this in two steps using Python's core split() function, dividing the full file name first by \".\" and then by \"_\".</p>\n"
   ]
  },
  {
   "cell_type": "code",
   "execution_count": null,
   "id": "4a3a06f0",
   "metadata": {},
   "outputs": [],
   "source": [
    "print(firstfilename)\n",
    "filename=firstfilename.split(\".\") #this line of code separates the filename into a list of parts that precede or follow a \".\"\n",
    "print(filename)\n",
    "filenameparts=filename[0].split(\"_\") #same thing, but using \"_\" as a separator\n",
    "print(filenameparts)\n",
    "ftype=filename[1]\n",
    "pres=filenameparts[0]\n",
    "year=filenameparts[1]\n",
    "print(\"President\",pres,\"delivered this State of the Union Address in\",year,\".\",\"This address is stored as a\",ftype,\"file.\")"
   ]
  },
  {
   "cell_type": "code",
   "execution_count": null,
   "id": "6ea2abc3",
   "metadata": {},
   "outputs": [],
   "source": []
  },
  {
   "cell_type": "markdown",
   "id": "213c4efe",
   "metadata": {},
   "source": [
    "## V: Iterating through lists using for loops\n",
    "\n",
    "<h3 style=\"color:green\">Code Together: Working with Lists</h3>\n",
    "\n",
    "**For loops** provide a simple means to iterate or cycle through items in a list, whether each item be a single value, an entire book or file, or a large directory of files.\n"
   ]
  },
  {
   "cell_type": "markdown",
   "id": "d95b19e9",
   "metadata": {},
   "source": [
    "<p style=\"color:green\">Below, we will create a list, perform some calculations on it, create a new empty list, and then add items to this new list.</p>"
   ]
  },
  {
   "cell_type": "code",
   "execution_count": null,
   "id": "2c95739f",
   "metadata": {},
   "outputs": [],
   "source": [
    "thisIsAnEmptyList = []\n",
    "print(len(thisIsAnEmptyList))\n",
    "\n"
   ]
  },
  {
   "cell_type": "code",
   "execution_count": null,
   "id": "e59c41da",
   "metadata": {},
   "outputs": [],
   "source": [
    "for i in range(0,1000):\n",
    "    thisIsAnEmptyList.append(i)\n",
    "print(len(thisIsAnEmptyList))\n",
    "print(thisIsAnEmptyList[-5:])\n",
    "sum(thisIsAnEmptyList)"
   ]
  },
  {
   "cell_type": "code",
   "execution_count": null,
   "id": "13d0891d",
   "metadata": {},
   "outputs": [],
   "source": [
    "numlist=[1,2,3,4,5]\n",
    "print(numlist)\n",
    "print(len(numlist))\n",
    "numlist.append(6)\n",
    "print(numlist)\n",
    "print(len(numlist))\n",
    "print(sum(numlist))"
   ]
  },
  {
   "cell_type": "markdown",
   "id": "13fc6c8f",
   "metadata": {},
   "source": [
    "<p style='color:green'>We can use **for loops** to iterate through a list. and then populate a new, empty list based on calculations performed on the original list.  *Run this code and then modify it to take each number to the third power.**</p>\n",
    "    \n"
   ]
  },
  {
   "cell_type": "code",
   "execution_count": null,
   "id": "91e66b19",
   "metadata": {},
   "outputs": [],
   "source": [
    "sqlist = []\n",
    "\n",
    "for num in numlist:\n",
    "    sq = num ** 2  #in Python \"*\" signifies multiplication and \"**\" signifies exponents, in this case \"num\" is taken to the 2nd power\n",
    "    sqlist.append(sq)\n",
    "print(sqlist)\n"
   ]
  },
  {
   "cell_type": "code",
   "execution_count": null,
   "id": "57a8cceb",
   "metadata": {},
   "outputs": [],
   "source": [
    "primes = []\n",
    "for i in range(1,100):\n",
    "    if not i>2:\n",
    "        primes.append(i)\n",
    "        continue\n",
    "    lowerNums = range(2,i)\n",
    "    isPrime = True\n",
    "    for lnum in lowerNums:\n",
    "        if i % lnum == 0:\n",
    "            isPrime = False\n",
    "            break\n",
    "    if isPrime:\n",
    "        primes.append(i)\n",
    "print(primes)"
   ]
  },
  {
   "cell_type": "markdown",
   "id": "d0a7e9e2",
   "metadata": {},
   "source": [
    "<p style='color:green'>An example applying some basic string functions to a list of strings:</p>"
   ]
  },
  {
   "cell_type": "code",
   "execution_count": null,
   "id": "81b7fa1c",
   "metadata": {},
   "outputs": [],
   "source": [
    "authors=[\"George R. R. Martin\",\"Chimamanda Ngozi Adichie\",\"Margaret Atwood\",\"Louise Erdrich\"]\n",
    "for author in authors:\n",
    "    print(\"***\")\n",
    "    print(author.lower())  #some examples of some simple string functions, observe what they do!\n",
    "    print(author.upper())\n",
    "    print(\"by \"+author)\n",
    "    print(len(author))\n",
    "    names=author.split()\n",
    "    print(names)\n",
    "    print((names[-1],' '.join(names[:-1])))\n",
    "    print(\"\\n\\n\")"
   ]
  },
  {
   "cell_type": "code",
   "execution_count": null,
   "id": "cc30e6a8",
   "metadata": {},
   "outputs": [],
   "source": []
  },
  {
   "cell_type": "markdown",
   "id": "979919c1",
   "metadata": {},
   "source": [
    "## VI. How many Roosevelts?: For Loop to iterate through files\n",
    "\n",
    "We can also use a **for loop** to iterate through all our SOTU files and count only those that fit a certain criteria (i.e. files that are .txt or .csv files, files that start with or end with a specific set of characters, or contain particular information)."
   ]
  },
  {
   "cell_type": "code",
   "execution_count": null,
   "id": "cccde5bd",
   "metadata": {},
   "outputs": [],
   "source": [
    "sotudir=Path(\"sotu\") #I already defined sotudir above, but re-inserting here for anyone skipping around\n",
    "pathlist = sotudir.glob('*.txt') #returns a list of all .txt files from the filepath we saved as \"sotudir\"\n",
    "\n",
    "for path in pathlist:\n",
    "    # print(path)        \n",
    "    print(path.name)\n",
    "\n",
    "#print([path.name for path in pathlist])  #this is a list comprehension version of the above code\n",
    "## experienced Python programmers prefer list comprehensions over for loops, but for loops are nice, \n",
    "##    very human-readable code that works well for beginners\n"
   ]
  },
  {
   "cell_type": "code",
   "execution_count": null,
   "id": "313008af",
   "metadata": {},
   "outputs": [],
   "source": []
  },
  {
   "cell_type": "code",
   "execution_count": null,
   "id": "d16765ac",
   "metadata": {},
   "outputs": [],
   "source": [
    "pathlist = sotudir.glob('*.txt') # .glob only stores the pathlist temporarily (for some reason), so you need to call it again!\n",
    "ctr=0\n",
    "for path in pathlist:\n",
    "    filename=path.name\n",
    "    if filename.startswith(\"Roosevelt\"):\n",
    "        print(filename)\n",
    "        ctr+=1\n",
    "print(ctr,\"SOTU addresses by a Roosevelt (FDR or Theodore) are included in this corpus\")\n",
    "\n",
    "\n",
    "    "
   ]
  },
  {
   "cell_type": "code",
   "execution_count": null,
   "id": "a8338ea2",
   "metadata": {},
   "outputs": [],
   "source": [
    "#Copy and paste the above code, but this time calculate the number of SOTU addresses delivered by a Bush."
   ]
  },
  {
   "cell_type": "code",
   "execution_count": null,
   "id": "ca2f7bf5",
   "metadata": {},
   "outputs": [],
   "source": []
  },
  {
   "cell_type": "markdown",
   "id": "5b6ac239",
   "metadata": {},
   "source": [
    "## Part VII: Creating a graph of the SOTU speeches."
   ]
  },
  {
   "cell_type": "code",
   "execution_count": null,
   "id": "9cfc5750",
   "metadata": {},
   "outputs": [],
   "source": [
    "#from nltk.tokenize import RegexpTokenizer #<--necessary only if you didn't run this above\n",
    "import pandas as pd\n",
    "from nltk.tokenize import RegexpTokenizer\n",
    "\n",
    "txtList=[]\n",
    "sotudir2=Path(\"sotu2\")\n",
    "pathlist = sotudir2.glob('*.txt') # .glob only stores the pathlist temporarily (for some reason), so you need to call it again!2\n",
    "ctr=0\n",
    "for path in pathlist:\n",
    "#for item in os.listdir():\n",
    "    fn=path.stem\n",
    "    fileType=path.suffix\n",
    "    #print(fileType)\n",
    "    #if fileType!=\".txt\":\n",
    "    #    print(\"***will not read: \",fn,\"***\")\n",
    "    #    continue\n",
    "    year,pres=fn.split(\"_\")\n",
    "    #print(year)\n",
    "    #print(pres)\n",
    "    with open(path,'r') as f:  \n",
    "        sotu = f.read()\n",
    "    tokenizer = RegexpTokenizer(r'\\w+')\n",
    "    tokens=tokenizer.tokenize(sotu)\n",
    "    numWords=len(tokens)\n",
    "    #print(txtLen)\n",
    "    txtList.append([pres,year,numWords,tokens])\n",
    "\n",
    "colnames=['pres','year','numWords','tokens']\n",
    "sotudf=pd.DataFrame(txtList,columns=colnames)  ##\n",
    "sotudf.head(10)"
   ]
  },
  {
   "cell_type": "code",
   "execution_count": null,
   "id": "0763437c",
   "metadata": {},
   "outputs": [],
   "source": [
    "sotudf['year'] = sotudf['year'].astype(int)\n",
    "sotuSub = sotudf[['pres','year','numWords']]"
   ]
  },
  {
   "cell_type": "code",
   "execution_count": null,
   "id": "641795e7",
   "metadata": {},
   "outputs": [],
   "source": [
    "sotuSub.to_csv(\"sotuList.csv\",encoding='utf-8')"
   ]
  },
  {
   "cell_type": "code",
   "execution_count": null,
   "id": "4badaee5",
   "metadata": {},
   "outputs": [],
   "source": [
    "sns.barplot(data=sotuSub, x=\"year\", y=\"numWords\", palette = \"colorblind\")"
   ]
  },
  {
   "cell_type": "code",
   "execution_count": null,
   "id": "04960096",
   "metadata": {
    "scrolled": true
   },
   "outputs": [],
   "source": [
    "g=sns.barplot(data=sotuSub, x=\"year\", y=\"numWords\", hue = \"pres\",dodge = False, palette = \"colorblind\")\n",
    "g.tick_params(labelrotation=90)\n",
    "\n",
    "#https://github.com/mwaskom/seaborn/issues/970\n",
    "#Add attribute dodge=False\n",
    "#Instead of creating different bar for single value. Adding dodge=False shows the data in single bar per variable.\n",
    "\n"
   ]
  },
  {
   "cell_type": "markdown",
   "id": "d5eafa48",
   "metadata": {},
   "source": [
    "One problem: there are too many labels on the x-axis. Run the following code. The line that begins with \"plt.xticks\" places x axis tick labels only at every ten years."
   ]
  },
  {
   "cell_type": "code",
   "execution_count": null,
   "id": "9ef2475c",
   "metadata": {},
   "outputs": [],
   "source": [
    "startYr = sotuSub['year'][0]\n",
    "endYr = sotuSub['year'][len(sotuSub['year'])-1]\n",
    "decades = [i for i in range(int(startYr),int(endYr)+1) if i % 10 == 0]\n",
    "\n",
    "f, ax = plt.subplots(figsize = (20,15))\n",
    "sns.barplot(data=sotuSub, x=\"year\", y=\"numWords\", hue = \"pres\",dodge = False, palette = \"colorblind\")\n",
    "ax.tick_params(labelrotation=90)\n",
    "#ax.set(xticks = decades)\n",
    "plt.xticks([dec - 1790 for dec in decades],labels=decades)\n",
    "plt.show()"
   ]
  },
  {
   "cell_type": "code",
   "execution_count": null,
   "id": "fc07047f",
   "metadata": {},
   "outputs": [],
   "source": []
  },
  {
   "cell_type": "markdown",
   "id": "bf283149",
   "metadata": {},
   "source": [
    "Let's modify the graph by labeling and grouping each bar by president.\n",
    "\n"
   ]
  },
  {
   "cell_type": "markdown",
   "id": "85c4b94e",
   "metadata": {},
   "source": [
    "<h2 style=\"color:blue\">Final Exercise</h2>\n",
    "\n",
    "<p style=\"color:blue\">2. (advanced). Return a count and the filenames of all SOTU addresses delivered in the nineteenth century. Hint: you will probably need to use an index of filenames to isolate the century (the first two digits of each SOTU file year). Review Lesson 1, Part 1b for clues how to do this.</p>\n",
    "\n",
    "<p style=\"color:blue\">If you are unable to complete this or just want to compare, code is available in the completed version of this notebook (suffix: \"_completed.ipynb\")</p>\n"
   ]
  },
  {
   "cell_type": "code",
   "execution_count": null,
   "id": "c8ddf224",
   "metadata": {},
   "outputs": [],
   "source": []
  }
 ],
 "metadata": {
  "kernelspec": {
   "display_name": "Python 3 (ipykernel)",
   "language": "python",
   "name": "python3"
  },
  "language_info": {
   "codemirror_mode": {
    "name": "ipython",
    "version": 3
   },
   "file_extension": ".py",
   "mimetype": "text/x-python",
   "name": "python",
   "nbconvert_exporter": "python",
   "pygments_lexer": "ipython3",
   "version": "3.9.13"
  }
 },
 "nbformat": 4,
 "nbformat_minor": 5
}
